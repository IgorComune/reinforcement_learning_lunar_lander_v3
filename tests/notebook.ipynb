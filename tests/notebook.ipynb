{
 "cells": [
  {
   "cell_type": "code",
   "execution_count": 2,
   "id": "ec691efc",
   "metadata": {},
   "outputs": [],
   "source": [
    "import pandas as pd"
   ]
  },
  {
   "cell_type": "code",
   "execution_count": 7,
   "id": "cf79447f",
   "metadata": {},
   "outputs": [
    {
     "name": "stderr",
     "output_type": "stream",
     "text": [
      "ffmpeg version 4.4.2-0ubuntu0.22.04.1 Copyright (c) 2000-2021 the FFmpeg developers\n",
      "  built with gcc 11 (Ubuntu 11.2.0-19ubuntu1)\n",
      "  configuration: --prefix=/usr --extra-version=0ubuntu0.22.04.1 --toolchain=hardened --libdir=/usr/lib/x86_64-linux-gnu --incdir=/usr/include/x86_64-linux-gnu --arch=amd64 --enable-gpl --disable-stripping --enable-gnutls --enable-ladspa --enable-libaom --enable-libass --enable-libbluray --enable-libbs2b --enable-libcaca --enable-libcdio --enable-libcodec2 --enable-libdav1d --enable-libflite --enable-libfontconfig --enable-libfreetype --enable-libfribidi --enable-libgme --enable-libgsm --enable-libjack --enable-libmp3lame --enable-libmysofa --enable-libopenjpeg --enable-libopenmpt --enable-libopus --enable-libpulse --enable-librabbitmq --enable-librubberband --enable-libshine --enable-libsnappy --enable-libsoxr --enable-libspeex --enable-libsrt --enable-libssh --enable-libtheora --enable-libtwolame --enable-libvidstab --enable-libvorbis --enable-libvpx --enable-libwebp --enable-libx265 --enable-libxml2 --enable-libxvid --enable-libzimg --enable-libzmq --enable-libzvbi --enable-lv2 --enable-omx --enable-openal --enable-opencl --enable-opengl --enable-sdl2 --enable-pocketsphinx --enable-librsvg --enable-libmfx --enable-libdc1394 --enable-libdrm --enable-libiec61883 --enable-chromaprint --enable-frei0r --enable-libx264 --enable-shared\n",
      "  libavutil      56. 70.100 / 56. 70.100\n",
      "  libavcodec     58.134.100 / 58.134.100\n",
      "  libavformat    58. 76.100 / 58. 76.100\n",
      "  libavdevice    58. 13.100 / 58. 13.100\n",
      "  libavfilter     7.110.100 /  7.110.100\n",
      "  libswscale      5.  9.100 /  5.  9.100\n",
      "  libswresample   3.  9.100 /  3.  9.100\n",
      "  libpostproc    55.  9.100 / 55.  9.100\n",
      "[mov,mp4,m4a,3gp,3g2,mj2 @ 0x56020cf36d80] Auto-inserting h264_mp4toannexb bitstream filter\n",
      "Input #0, concat, from '../videos/continuous/test/file_list.txt':\n",
      "  Duration: N/A, start: 0.000000, bitrate: 677 kb/s\n",
      "  Stream #0:0(und): Video: h264 (High) (avc1 / 0x31637661), yuv420p, 600x400, 677 kb/s, 50 fps, 50 tbr, 12800 tbn, 100 tbc\n",
      "    Metadata:\n",
      "      handler_name    : VideoHandler\n",
      "      vendor_id       : [0][0][0][0]\n",
      "      encoder         : Lavc61.3.100 libx264\n",
      "Output #0, mp4, to '../videos/continuous/test/continuous_test.mp4':\n",
      "  Metadata:\n",
      "    encoder         : Lavf58.76.100\n",
      "  Stream #0:0(und): Video: h264 (High) (avc1 / 0x31637661), yuv420p, 600x400, q=2-31, 677 kb/s, 50 fps, 50 tbr, 12800 tbn, 12800 tbc\n",
      "    Metadata:\n",
      "      handler_name    : VideoHandler\n",
      "      vendor_id       : [0][0][0][0]\n",
      "      encoder         : Lavc61.3.100 libx264\n",
      "Stream mapping:\n",
      "  Stream #0:0 -> #0:0 (copy)\n",
      "Press [q] to stop, [?] for help\n",
      "[mov,mp4,m4a,3gp,3g2,mj2 @ 0x56020cf36d80] Auto-inserting h264_mp4toannexb bitstream filter8x    \n",
      "[mp4 @ 0x56020cf5e840] Non-monotonous DTS in output stream 0:0; previous: 0, current: -256; changing to 1. This may result in incorrect timestamps in the output file.\n",
      "[mp4 @ 0x56020cf5e840] Non-monotonous DTS in output stream 0:0; previous: 1, current: 0; changing to 2. This may result in incorrect timestamps in the output file.\n",
      "[mov,mp4,m4a,3gp,3g2,mj2 @ 0x56020cf60400] Auto-inserting h264_mp4toannexb bitstream filter\n",
      "[mov,mp4,m4a,3gp,3g2,mj2 @ 0x56020cf61440] Auto-inserting h264_mp4toannexb bitstream filter\n",
      "[mov,mp4,m4a,3gp,3g2,mj2 @ 0x56020cfd7780] Auto-inserting h264_mp4toannexb bitstream filter\n",
      "[mov,mp4,m4a,3gp,3g2,mj2 @ 0x56020cfd7740] Auto-inserting h264_mp4toannexb bitstream filter\n",
      "frame= 1601 fps=0.0 q=-1.0 Lsize=     233kB time=00:00:31.96 bitrate=  59.8kbits/s speed=1.82e+03x    \n",
      "video:214kB audio:0kB subtitle:0kB other streams:0kB global headers:0kB muxing overhead: 9.095479%\n"
     ]
    },
    {
     "data": {
      "text/plain": [
       "'../videos/continuous/test/continuous_test.mp4'"
      ]
     },
     "execution_count": 7,
     "metadata": {},
     "output_type": "execute_result"
    }
   ],
   "source": [
    "import os\n",
    "import glob\n",
    "import subprocess\n",
    "\n",
    "def concat_videos_ffmpeg(path, output_name=\"continuous_test.mp4\"):\n",
    "    output_path = os.path.join(path, output_name)\n",
    "\n",
    "    # Pega todos os arquivos mp4 na pasta (ordenados por nome)\n",
    "    video_files = sorted(glob.glob(os.path.join(path, \"*.mp4\")))\n",
    "\n",
    "    if not video_files:\n",
    "        raise ValueError(\"Nenhum arquivo .mp4 encontrado no path especificado.\")\n",
    "\n",
    "    # Remove da lista o arquivo de saída, caso já exista\n",
    "    video_files = [f for f in video_files if os.path.abspath(f) != os.path.abspath(output_path)]\n",
    "\n",
    "    if not video_files:\n",
    "        raise ValueError(\"Só existe o arquivo de saída na pasta, nada para concatenar.\")\n",
    "\n",
    "    # Cria arquivo temporário de lista\n",
    "    list_file = os.path.join(path, \"file_list.txt\")\n",
    "    with open(list_file, \"w\", encoding=\"utf-8\") as f:\n",
    "        for vf in video_files:\n",
    "            f.write(f\"file '{os.path.abspath(vf)}'\\n\")\n",
    "\n",
    "    # Executa ffmpeg (concatenação sem recodificação, rápido e sem perda)\n",
    "    subprocess.run(\n",
    "        [\"ffmpeg\", \"-f\", \"concat\", \"-safe\", \"0\", \"-i\", list_file, \"-c\", \"copy\", output_path],\n",
    "        check=True\n",
    "    )\n",
    "\n",
    "    # Remove arquivo de lista temporário\n",
    "    os.remove(list_file)\n",
    "\n",
    "    # Deleta os originais (menos o concatenado)\n",
    "    for f in video_files:\n",
    "        if os.path.abspath(f) != os.path.abspath(output_path):\n",
    "            os.remove(f)\n",
    "\n",
    "    return output_path\n",
    "\n",
    "concat_videos_ffmpeg(\"../videos/continuous/test\")"
   ]
  },
  {
   "cell_type": "code",
   "execution_count": 9,
   "id": "699958b9",
   "metadata": {},
   "outputs": [
    {
     "name": "stdout",
     "output_type": "stream",
     "text": [
      "\u001b[33mWARNING: Ignoring invalid distribution -umpy (/home/comune/rf_gym_lunar_lander/env/lib/python3.10/site-packages)\u001b[0m\u001b[33m\n",
      "\u001b[0m"
     ]
    }
   ],
   "source": [
    "! pip freeze > requirements.txt"
   ]
  },
  {
   "cell_type": "code",
   "execution_count": null,
   "id": "ce091477",
   "metadata": {},
   "outputs": [],
   "source": []
  }
 ],
 "metadata": {
  "kernelspec": {
   "display_name": "env",
   "language": "python",
   "name": "python3"
  },
  "language_info": {
   "codemirror_mode": {
    "name": "ipython",
    "version": 3
   },
   "file_extension": ".py",
   "mimetype": "text/x-python",
   "name": "python",
   "nbconvert_exporter": "python",
   "pygments_lexer": "ipython3",
   "version": "3.10.12"
  }
 },
 "nbformat": 4,
 "nbformat_minor": 5
}
